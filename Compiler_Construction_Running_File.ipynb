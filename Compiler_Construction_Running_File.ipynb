{
  "nbformat": 4,
  "nbformat_minor": 0,
  "metadata": {
    "colab": {
      "provenance": [],
      "collapsed_sections": [],
      "include_colab_link": true
    },
    "kernelspec": {
      "name": "python3",
      "display_name": "Python 3"
    },
    "language_info": {
      "name": "python"
    }
  },
  "cells": [
    {
      "cell_type": "markdown",
      "metadata": {
        "id": "view-in-github",
        "colab_type": "text"
      },
      "source": [
        "<a href=\"https://colab.research.google.com/github/LCherop/Compiler-Construction/blob/main/Compiler_Construction_Running_File.ipynb\" target=\"_parent\"><img src=\"https://colab.research.google.com/assets/colab-badge.svg\" alt=\"Open In Colab\"/></a>"
      ]
    },
    {
      "cell_type": "markdown",
      "source": [
        "## Group Members :113342, 120821, 123011,120574, 121471\n"
      ],
      "metadata": {
        "id": "6mIRwGECmGQJ"
      }
    },
    {
      "cell_type": "markdown",
      "source": [
        "## Lab Activity 1: Flex, Bison, Lex, Yacc\n",
        "Give brief descriptions of the tools mentioned above.\n",
        "\n",
        "The description should have: 3-5 lines definition, diagram and code snippet\n",
        "\n"
      ],
      "metadata": {
        "id": "I47WyNIumSuV"
      }
    },
    {
      "cell_type": "markdown",
      "source": [
        "### **Flex**\n",
        "\n",
        "Flex is used to generate a scanner specified by regular expressions and C code for actions to implement it. The scanner reads an input sequence that\n",
        "matches a pattern, it executes the action to process it allowing the tool to be used in many different contexts due to generalization.\n",
        "It is faster than Lex and often utilized with Bison.\n",
        "![Flex diagram.png]()\n"
      ],
      "metadata": {
        "id": "FpsoTIQR-aDV"
      }
    },
    {
      "cell_type": "markdown",
      "source": [
        "\n",
        "\n",
        "###**Lex**\n",
        "\n",
        "\n",
        "Lex is a program that generates a lexical analyzer. It is used together with Yacc parse generator. A lexical analyzer is a program that transforms an input stream into a sequence of tokens. Lex reads an input stream while specifying the lexical analyzer and returns the source code as output which implements the lexical analyzer in the C programming language. Lex works as shown in the diagram below.\n",
        "\n",
        "![lex.png](https://static.javatpoint.com/compiler/images/lex.png)\n",
        "\n",
        "It begins with lexical analyzer creating a program lex.1 in the Lex language. Lex compiler runs the lex.1 program and produces a C program lex.yy.c. Finally, C compiler runs the lex.yy.c program and produces an object program a.out which is a lexical analyzer. A sample code is as shown below.It begins with the percentage symbol which is a must but the closing one is optional.\n",
        "\n",
        "![lex-code.png](https://drive.google.com/uc?id=1WYVkAfbdEvpWSN_5OeyBnvO8EtoA6DRe)\n",
        "\n",
        "\n"
      ],
      "metadata": {
        "id": "ddq6x0l4mKj_"
      }
    },
    {
      "cell_type": "markdown",
      "source": [
        "### Yacc - Yet Another Compiler Compiler\n",
        "\n",
        "- Yacc provides a tool to produce a parser for a given grammer. It was originally designed for being complemented by Lex. \n",
        "\n",
        "\n",
        "<img src='https://drive.google.com/uc?id=1i6HWp6k6T04EC42SfaFiiHIem2y6BqES'>\n",
        "\n",
        "Yacc translates a given context free grammar specifications(input in input_file.y) into a C implementation(y.tab.c) of a corresponding push down automation(a finite state machine with a stack). When the C file is compiled, it yields an executable parser.\n",
        "\n"
      ],
      "metadata": {
        "id": "Y3Y62GaPPAx_"
      }
    },
    {
      "cell_type": "markdown",
      "source": [
        "YACC INPUT FILE\n",
        "YACC Input file generally finishes with file.*y*"
      ],
      "metadata": {
        "id": "DyuZBIBgjCN6"
      }
    },
    {
      "cell_type": "code",
      "execution_count": null,
      "metadata": {
        "id": "B8q9okIFl8MA"
      },
      "outputs": [],
      "source": [
        "#DISCLAIMER: DO NOT RUN THIS CELL\n",
        "#YACC Input File Containes 3 parts: Definitions, Rules and Auxillary Routines\n",
        "\n",
        "#Definitions\n",
        "#~Includes information about the tokens used in the syntax definition.\n",
        "#YACC assgins numbers for tokens or they can be user defined\n",
        "#The definition can also include the specification of the starting symbol in the grammar. Like so:\n",
        "\n",
        "\n",
        "/* Beginning of Declarations part */\n",
        "\n",
        "%{\n",
        "    /*Beginning of C declarations*/\n",
        "\n",
        "    /*End of C declarations*/\n",
        "%}\n",
        "\n",
        "    /*Beginning of YACC declarations  */\n",
        "    #specification of starting symbol example\n",
        "    %start nonterminal\n",
        "\n",
        "    #token information example\n",
        "    %token NUMBER\n",
        "    %token ID\n",
        "\n",
        "    /*End of YACC declarations */\n",
        "\n",
        "/* End of Declarations Part */\n",
        "\n",
        "%%\n",
        "\n",
        "\n",
        "#Rules\n",
        "#Contains grammar definition in a modified BNF form\n",
        " %%\n",
        "/* Rules Section begins here */\n",
        "    #rule format\n",
        "    production_head : production_body {action in C } ; \n",
        "    #rule example\n",
        "    expr: DIGIT {printf(\"NUM%d \",pos);} \n",
        "    #In this rule, when the input matches with the body of the production DIGIT, \n",
        "    #it is reduced to expr and the action {printf(\"NUM%d \",pos);} is executed.\n",
        "/* Rules Section ends here */\n",
        "%% \n",
        "\n",
        "#Auxillary Routines\n",
        "# Includes Function definitions for every function needed in the rules part\n",
        "#The functions are main(), yylex() and yyerror() and any other the user defines\n",
        "#The main() function must invoke yyparse() to parse the input\n",
        "\n",
        "void print_operator(char c){\n",
        "    switch(c){\n",
        "        case '+'  : printf(\"PLUS \");\n",
        "                    break;\n",
        "        case '*'  : printf(\"MUL \");\n",
        "                    break;\n",
        "    }\n",
        "    return;\n",
        "}\n",
        "\n",
        "yyerror(char const *s)\n",
        "{\n",
        "    printf(\"yyerror %s\",s);\n",
        "}\n",
        "\n",
        "yylex(){\n",
        "    char c;\n",
        "    c = getchar();\n",
        "    if(isdigit(c)){\n",
        "        pos++;\n",
        "        return DIGIT;\n",
        "    }\n",
        "    else if(c == ' '){\n",
        "        yylex();         #This is to ignore whitespaces in the input\n",
        "    }\n",
        "    else {\n",
        "        return c;\n",
        "    }\n",
        "}\n",
        "\n",
        "main()\n",
        "{\n",
        "\tyyparse();\n",
        "\treturn 1;\n",
        "}\n",
        "\n"
      ]
    },
    {
      "cell_type": "markdown",
      "source": [],
      "metadata": {
        "id": "8VmJBkD7jcNM"
      }
    },
    {
      "cell_type": "code",
      "source": [],
      "metadata": {
        "id": "xNzIzBQmjez2"
      },
      "execution_count": null,
      "outputs": []
    },
    {
      "cell_type": "markdown",
      "source": [
        "## References\n",
        "Lesk, M. E., & Schmidt, E. (n.d.). Lex - A Lexical Analyzer Generator. The Lex & Yacc Page. Retrieved September 10, 2022, from http://dinosaur.compilertools.net/lex/index.html\n",
        "\n",
        "LEX - javatpoint. (n.d.). www.javatpoint.com. Retrieved September 10, 2022, from https://www.javatpoint.com/lex\n",
        "\n",
        "Wikipedia contributors. (2022, July 2). Lex (software). Wikipedia. Retrieved September 10, 2022, from https://en.wikipedia.org/w/index.php?title=Lex_(software)&oldid=1096096344\n",
        "\n",
        "\n",
        "Geeks for Geeks. (2021, April 29). Introduction to YACC. GeeksforGeeks. https://www.geeksforgeeks.org/introduction-to-yacc/\n",
        "\n",
        "Johnson, S. C. (n.d.). Yacc Yet Another Compiler Compiler by Stephen C. Johnson. UT Computer Science. https://www.cs.utexas.edu/users/novak/yaccpaper.htm\n",
        "\n",
        "Nachiappan, V., & National Institute of Technology. (n.d.). YACC. EXPL NITC. Retrieved September 13, 2022, from https://silcnitc.github.io/yacc.html"
      ],
      "metadata": {
        "id": "tpnZU-VbmyVw"
      }
    },
    {
      "cell_type": "markdown",
      "source": [
        "## Lab Activity 2"
      ],
      "metadata": {
        "id": "eH4r4sxPnjwc"
      }
    },
    {
      "cell_type": "code",
      "source": [],
      "metadata": {
        "id": "j3sTZ0jwninR"
      },
      "execution_count": null,
      "outputs": []
    }
  ]
}